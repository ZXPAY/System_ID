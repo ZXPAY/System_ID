{
 "cells": [
  {
   "cell_type": "code",
   "execution_count": 1,
   "metadata": {},
   "outputs": [],
   "source": [
    "import tensorflow as tf\n",
    "import numpy as np\n",
    "import matplotlib.pyplot as plt\n",
    "import scipy.linalg as linalg\n",
    "%matplotlib inline"
   ]
  },
  {
   "cell_type": "markdown",
   "metadata": {},
   "source": [
    "### Define input data and output data"
   ]
  },
  {
   "cell_type": "code",
   "execution_count": 2,
   "metadata": {},
   "outputs": [
    {
     "name": "stdout",
     "output_type": "stream",
     "text": [
      "[[ 9.901e-01  9.870e-02  4.900e-03  7.000e-04 -1.967e-01  9.704e-01\n",
      "   9.800e-02  1.470e-02  4.900e-03  7.000e-04  9.950e-01  9.930e-02\n",
      "   9.800e-02  1.470e-02 -9.870e-02  9.852e-01]]\n",
      "(1, 16)\n",
      "(1, 16)\n",
      "(1, 16)\n"
     ]
    }
   ],
   "source": [
    "# freq = 2\n",
    "# train_X = np.array([[0.7722,0.4380,0.1117,0.0305],[-0.8456,0.6876,0.4075,0.1525],[0.1117,0.0305,0.8839,0.4686],[0.4075,0.1525,-0.4380,0.8401]], dtype=np.float32)\n",
    "# freq = 100\n",
    "# train_X = np.array([[0.9999,0.0100,0.0000,0.0000],[-0.0200,0.9979,0.0100,0.0010],[ 0.0000,0.0000,1.0000,0.0100],[0.0100,0.0010,-0.0100,0.9990]], dtype=np.float32)\n",
    "# freq = 10\n",
    "train_X = np.array([[0.9901,0.0987,0.0049,0.0007],[-0.1967,0.9704,0.0980,0.0147],[0.0049,0.0007,0.9950,0.0993],[0.0980,0.0147,-0.0987,0.9852]], dtype=np.float32)\n",
    "train_y = np.zeros([1, 16], dtype=np.float32)\n",
    "train_X = train_X.reshape(1,16)\n",
    "train_mask_X = np.array([[1,0,1,0,1,0,1,0,1,0,1,0,1,0,1,0,]])\n",
    "print(train_X)\n",
    "print(train_X.shape)\n",
    "print(train_y.shape)\n",
    "print(train_mask_X.shape)"
   ]
  },
  {
   "cell_type": "markdown",
   "metadata": {},
   "source": [
    "### Define neural network"
   ]
  },
  {
   "cell_type": "code",
   "execution_count": 3,
   "metadata": {},
   "outputs": [
    {
     "name": "stdout",
     "output_type": "stream",
     "text": [
      "WARNING:tensorflow:From C:\\Users\\zxpay\\AppData\\Local\\Continuum\\anaconda3\\lib\\site-packages\\tensorflow\\python\\framework\\op_def_library.py:263: colocate_with (from tensorflow.python.framework.ops) is deprecated and will be removed in a future version.\n",
      "Instructions for updating:\n",
      "Colocations handled automatically by placer.\n"
     ]
    }
   ],
   "source": [
    "X = tf.placeholder(\"float\", [None, 16])\n",
    "y = tf.placeholder(\"float\", [None, 16])\n",
    "mask_X = tf.placeholder(\"float\", [None, 16])\n",
    "biases = {\n",
    "    'out': tf.Variable(tf.random_normal([16]))\n",
    "}\n",
    "temp_x = tf.multiply(biases['out'], mask_X)\n",
    "pred_y = tf.add(X, temp_x)"
   ]
  },
  {
   "cell_type": "markdown",
   "metadata": {},
   "source": [
    "### Define the loss function"
   ]
  },
  {
   "cell_type": "code",
   "execution_count": 96,
   "metadata": {},
   "outputs": [],
   "source": [
    "[e, v] = tf.linalg.eigh(tf.reshape(pred_y, [4,4]))\n",
    "loss_op = tf.reduce_mean(tf.abs(e))"
   ]
  },
  {
   "cell_type": "markdown",
   "metadata": {},
   "source": [
    "### Define optimizer"
   ]
  },
  {
   "cell_type": "code",
   "execution_count": null,
   "metadata": {},
   "outputs": [],
   "source": [
    "lr = 0.1\n",
    "optimizer = tf.train.AdadeltaOptimizer(learning_rate=lr)\n",
    "train_op = optimizer.minimize(loss_op)"
   ]
  },
  {
   "cell_type": "markdown",
   "metadata": {},
   "source": [
    "### Training"
   ]
  },
  {
   "cell_type": "code",
   "execution_count": 105,
   "metadata": {},
   "outputs": [
    {
     "data": {
      "text/plain": [
       "array([-0.9897511 ,  0.4882071 ,  0.35442173, -0.44488063,  0.19670007,\n",
       "        0.03897231, -1.2367382 , -0.35897586, -0.00490059,  0.5113947 ,\n",
       "       -0.9946962 , -0.4629927 , -0.09799996,  0.17114119,  0.09871061,\n",
       "       -2.727859  ], dtype=float32)"
      ]
     },
     "execution_count": 105,
     "metadata": {},
     "output_type": "execute_result"
    }
   ],
   "source": [
    "training_step = 100000\n",
    "loss_collect = []\n",
    "para = 0\n",
    "with tf.Session() as sess:\n",
    "    sess.run(tf.global_variables_initializer())\n",
    "    for step in range(training_step):\n",
    "        sess.run(train_op, feed_dict={X:train_X, y:train_y, mask_X:train_mask_X})\n",
    "        er = sess.run(loss_op, feed_dict={X:train_X, y:train_y, mask_X:train_mask_X})\n",
    "        loss_collect.append(er)\n",
    "        if step == training_step-1:\n",
    "            para = sess.run(biases['out'])\n",
    "para"
   ]
  },
  {
   "cell_type": "code",
   "execution_count": 116,
   "metadata": {},
   "outputs": [
    {
     "data": {
      "image/png": "[encoded data removed]",
      "text/plain": [
       "<Figure size 432x288 with 1 Axes>"
      ]
     },
     "metadata": {
      "needs_background": "light"
     },
     "output_type": "display_data"
    }
   ],
   "source": [
    "x_dot = np.linspace(0, training_step, training_step)\n",
    "plt.plot(x_dot, loss_collect)\n",
    "plt.title('loss')\n",
    "plt.xlabel('step')\n",
    "plt.ylabel('mean(abs(eigenvalue))')\n",
    "plt.show()"
   ]
  },
  {
   "cell_type": "code",
   "execution_count": 107,
   "metadata": {},
   "outputs": [
    {
     "data": {
      "text/plain": [
       "array([[-0.9897511 ,  0.        ,  0.35442173,  0.        ],\n",
       "       [ 0.19670007,  0.        , -1.2367382 ,  0.        ],\n",
       "       [-0.00490059,  0.        , -0.9946962 ,  0.        ],\n",
       "       [-0.09799996,  0.        ,  0.09871061,  0.        ]],\n",
       "      dtype=float32)"
      ]
     },
     "execution_count": 107,
     "metadata": {},
     "output_type": "execute_result"
    }
   ],
   "source": [
    "para = para.reshape(4,4)\n",
    "para[:, 1] = 0\n",
    "para[:, 3] = 0\n",
    "para"
   ]
  },
  {
   "cell_type": "code",
   "execution_count": 108,
   "metadata": {},
   "outputs": [
    {
     "data": {
      "text/plain": [
       "array([[ 9.901e-01,  9.870e-02,  4.900e-03,  7.000e-04],\n",
       "       [-1.967e-01,  9.704e-01,  9.800e-02,  1.470e-02],\n",
       "       [ 4.900e-03,  7.000e-04,  9.950e-01,  9.930e-02],\n",
       "       [ 9.800e-02,  1.470e-02, -9.870e-02,  9.852e-01]], dtype=float32)"
      ]
     },
     "execution_count": 108,
     "metadata": {},
     "output_type": "execute_result"
    }
   ],
   "source": [
    "A = train_X.reshape(4,4)\n",
    "A"
   ]
  },
  {
   "cell_type": "code",
   "execution_count": 109,
   "metadata": {},
   "outputs": [
    {
     "data": {
      "text/plain": [
       "array([[ 3.4892559e-04,  9.8700002e-02,  3.5932174e-01,  6.9999998e-04],\n",
       "       [ 5.9604645e-08,  9.7039998e-01, -1.1387382e+00,  1.4700000e-02],\n",
       "       [-5.8626756e-07,  6.9999998e-04,  3.0380487e-04,  9.9299997e-02],\n",
       "       [ 3.7252903e-08,  1.4700000e-02,  1.0609627e-05,  9.8519999e-01]],\n",
       "      dtype=float32)"
      ]
     },
     "execution_count": 109,
     "metadata": {},
     "output_type": "execute_result"
    }
   ],
   "source": [
    "A_bar = A + para\n",
    "A_bar"
   ]
  },
  {
   "cell_type": "code",
   "execution_count": 110,
   "metadata": {},
   "outputs": [
    {
     "name": "stdout",
     "output_type": "stream",
     "text": [
      "eig:  (-0.0001320868+0.00021961545j)\n",
      "eig:  (-0.0001320868-0.00021961545j)\n",
      "eig:  (0.9782586+0.0377104j)\n",
      "eig:  (0.9782586-0.0377104j)\n",
      "0.48962075\n"
     ]
    }
   ],
   "source": [
    "import scipy.linalg as lin\n",
    "[eigvalue, eigvec] = lin.eig(A_bar)\n",
    "for i in eigvalue:\n",
    "    print(\"eig: \", i)\n",
    "print(np.mean(np.abs(eigvalue)))"
   ]
  },
  {
   "cell_type": "code",
   "execution_count": 111,
   "metadata": {},
   "outputs": [],
   "source": [
    "a = np.zeros([8], dtype=np.float32)\n",
    "c = 0\n",
    "for i in para.reshape(-1,1):\n",
    "    if(i[0]!=0):\n",
    "        a[c] = i[0]\n",
    "        c+=1"
   ]
  },
  {
   "cell_type": "code",
   "execution_count": 112,
   "metadata": {},
   "outputs": [
    {
     "data": {
      "text/plain": [
       "array([-0.9897511 ,  0.35442173,  0.19670007, -1.2367382 , -0.00490059,\n",
       "       -0.9946962 , -0.09799996,  0.09871061], dtype=float32)"
      ]
     },
     "execution_count": 112,
     "metadata": {},
     "output_type": "execute_result"
    }
   ],
   "source": [
    "a"
   ]
  },
  {
   "cell_type": "code",
   "execution_count": null,
   "metadata": {},
   "outputs": [],
   "source": []
  },
  {
   "cell_type": "code",
   "execution_count": null,
   "metadata": {},
   "outputs": [],
   "source": []
  }
 ],
 "metadata": {
  "kernelspec": {
   "display_name": "Python 3",
   "language": "python",
   "name": "python3"
  },
  "language_info": {
   "codemirror_mode": {
    "name": "ipython",
    "version": 3
   },
   "file_extension": ".py",
   "mimetype": "text/x-python",
   "name": "python",
   "nbconvert_exporter": "python",
   "pygments_lexer": "ipython3",
   "version": "3.7.1"
  }
 },
 "nbformat": 4,
 "nbformat_minor": 2
}
