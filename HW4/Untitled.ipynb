{
 "cells": [
  {
   "cell_type": "code",
   "execution_count": 1,
   "metadata": {},
   "outputs": [],
   "source": [
    "using TensorFlow\n",
    "using Test"
   ]
  },
  {
   "cell_type": "code",
   "execution_count": 2,
   "metadata": {},
   "outputs": [
    {
     "ename": "ErrorException",
     "evalue": "could not load library \"C:\\Users\\zxpay\\.julia\\packages\\TensorFlow\\q9pY2\\src\\..\\deps\\usr\\bin\\libtensorflow\"\nThe specified module could not be found.\r\n",
     "output_type": "error",
     "traceback": [
      "could not load library \"C:\\Users\\zxpay\\.julia\\packages\\TensorFlow\\q9pY2\\src\\..\\deps\\usr\\bin\\libtensorflow\"\nThe specified module could not be found.\r\n",
      "",
      "Stacktrace:",
      " [1] dlopen(::String, ::UInt32) at C:\\cygwin\\home\\Administrator\\buildbot\\worker\\package_win64\\build\\usr\\share\\julia\\stdlib\\v1.0\\Libdl\\src\\Libdl.jl:97 (repeats 2 times)",
      " [2] macro expansion at C:\\Users\\zxpay\\.julia\\packages\\TensorFlow\\q9pY2\\src\\core.jl:22 [inlined]",
      " [3] #tf_version#64(::Symbol, ::Function) at C:\\Users\\zxpay\\.julia\\packages\\TensorFlow\\q9pY2\\src\\version.jl:18",
      " [4] tf_version() at C:\\Users\\zxpay\\.julia\\packages\\TensorFlow\\q9pY2\\src\\version.jl:17",
      " [5] upgrade_check(::VersionNumber) at C:\\Users\\zxpay\\.julia\\packages\\TensorFlow\\q9pY2\\src\\core.jl:385",
      " [6] get_def_graph() at C:\\Users\\zxpay\\.julia\\packages\\TensorFlow\\q9pY2\\src\\core.jl:401",
      " [7] Session() at C:\\Users\\zxpay\\.julia\\packages\\TensorFlow\\q9pY2\\src\\core.jl:481",
      " [8] top-level scope at In[2]:1"
     ]
    }
   ],
   "source": [
    "sess = TensorFlow.Session()\n",
    "\n",
    "x = TensorFlow.constant(Float64[1,2])\n",
    "y = TensorFlow.Variable(Float64[3,4])\n",
    "z = TensorFlow.placeholder(Float64)\n",
    "\n",
    "w = exp(x + z + -y)\n",
    "\n",
    "run(sess, TensorFlow.global_variables_initializer())\n",
    "res = run(sess, w, Dict(z=>Float64[1,2]))\n",
    "@test res[1] ≈ exp(-1)"
   ]
  },
  {
   "cell_type": "code",
   "execution_count": null,
   "metadata": {},
   "outputs": [],
   "source": []
  },
  {
   "cell_type": "code",
   "execution_count": null,
   "metadata": {},
   "outputs": [],
   "source": []
  }
 ],
 "metadata": {
  "kernelspec": {
   "display_name": "Julia 1.0.3",
   "language": "julia",
   "name": "julia-1.0"
  },
  "language_info": {
   "file_extension": ".jl",
   "mimetype": "application/julia",
   "name": "julia",
   "version": "1.0.3"
  }
 },
 "nbformat": 4,
 "nbformat_minor": 2
}
